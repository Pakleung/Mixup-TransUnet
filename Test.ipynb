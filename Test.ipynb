{
 "cells": [
  {
   "cell_type": "markdown",
   "id": "5e18880a",
   "metadata": {},
   "source": [
    "Inference and Test can be performed both visually and quantitatively by computing the Dice Score of the predicted label maps.\n",
    "\n",
    "First, write and save the volumes test data as list:"
   ]
  },
  {
   "cell_type": "code",
   "execution_count": 15,
   "id": "71698614",
   "metadata": {},
   "outputs": [],
   "source": [
    "from data_processing.data_parser import DataReader\n",
    "data_reader = DataReader(src_path=\"synapse_ct_scans/\", height=224, width=224)#, depth=3)\n",
    "test_dataset = data_reader.get_test_data(image_size=224, use_self_filenames=True, shuffle=True)"
   ]
  },
  {
   "cell_type": "code",
   "execution_count": null,
   "id": "35807389",
   "metadata": {},
   "outputs": [],
   "source": [
    "from data_processing.data_parser import DataWriter\n",
    "dw = DataWriter(src_path=\"YOUR_SRC_PATH\", height=224, width=224, depth=3)\n",
    "test_dataset = dw.write_test_list()"
   ]
  },
  {
   "cell_type": "markdown",
   "id": "7c19dff7",
   "metadata": {},
   "source": [
    "Then, perform Inference as follows:"
   ]
  },
  {
   "cell_type": "code",
   "execution_count": 16,
   "id": "d5722b80",
   "metadata": {},
   "outputs": [
    {
     "ename": "NameError",
     "evalue": "name 'model' is not defined",
     "output_type": "error",
     "traceback": [
      "\u001b[0;31m---------------------------------------------------------------------------\u001b[0m",
      "\u001b[0;31mNameError\u001b[0m                                 Traceback (most recent call last)",
      "\u001b[0;32m<ipython-input-16-2670ed428995>\u001b[0m in \u001b[0;36m<module>\u001b[0;34m\u001b[0m\n\u001b[1;32m      1\u001b[0m \u001b[0;32mfrom\u001b[0m \u001b[0mutils\u001b[0m\u001b[0;34m.\u001b[0m\u001b[0mevaluation\u001b[0m \u001b[0;32mimport\u001b[0m \u001b[0minference\u001b[0m\u001b[0;34m\u001b[0m\u001b[0;34m\u001b[0m\u001b[0m\n\u001b[0;32m----> 2\u001b[0;31m \u001b[0minference\u001b[0m\u001b[0;34m(\u001b[0m\u001b[0mtest_dataset\u001b[0m\u001b[0;34m,\u001b[0m \u001b[0mmodel\u001b[0m\u001b[0;34m.\u001b[0m\u001b[0mmodel\u001b[0m\u001b[0;34m)\u001b[0m\u001b[0;34m\u001b[0m\u001b[0;34m\u001b[0m\u001b[0m\n\u001b[0m",
      "\u001b[0;31mNameError\u001b[0m: name 'model' is not defined"
     ]
    }
   ],
   "source": [
    "from utils.evaluation import inference\n",
    "inference(test_dataset, model.model)"
   ]
  },
  {
   "cell_type": "markdown",
   "id": "9b7ea129",
   "metadata": {},
   "source": [
    "Visualize the segmentation masks as follows:"
   ]
  },
  {
   "cell_type": "code",
   "execution_count": null,
   "id": "f874195f",
   "metadata": {},
   "outputs": [],
   "source": [
    "from utils.visualize import visualize_non_empty_predictions\n",
    "from data_processing.data_parser import DataReader\n",
    "dr = DataReader(src_path=\"YOUR_SRC_PATH\", height=224, width=224, depth=3)\n",
    "test_dataset = dr.get_test_data()\n",
    "\n",
    "for i, img_lab in enumerate(test_dataset.take(32)):\n",
    "  img = img_lab[0]\n",
    "  lab = img_lab[1]\n",
    "  visualize_non_empty_predictions(img, lab, models)"
   ]
  }
 ],
 "metadata": {
  "kernelspec": {
   "display_name": "Python 3",
   "language": "python",
   "name": "python3"
  },
  "language_info": {
   "codemirror_mode": {
    "name": "ipython",
    "version": 3
   },
   "file_extension": ".py",
   "mimetype": "text/x-python",
   "name": "python",
   "nbconvert_exporter": "python",
   "pygments_lexer": "ipython3",
   "version": "3.8.8"
  }
 },
 "nbformat": 4,
 "nbformat_minor": 5
}
